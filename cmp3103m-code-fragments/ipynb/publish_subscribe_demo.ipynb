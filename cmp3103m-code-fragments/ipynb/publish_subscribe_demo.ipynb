{
 "cells": [
  {
   "cell_type": "code",
   "execution_count": 9,
   "metadata": {},
   "outputs": [],
   "source": [
    "# importing the ROS Python API\n",
    "import rospy\n",
    "\n",
    "# importing all the message types we are going to use\n",
    "from std_msgs.msg import String\n",
    "from geometry_msgs.msg import Pose\n",
    "from sensor_msgs.msg import LaserScan\n"
   ]
  },
  {
   "cell_type": "code",
   "execution_count": 10,
   "metadata": {},
   "outputs": [],
   "source": [
    "\n",
    "# jupyros is a library solely for use in Jupyter Notebooks, This is used for dedactic purposes only here \n",
    "# to illustrate ROS concepts. It's for interactive use only, not in a stand-along program\n",
    "import jupyros as jr"
   ]
  },
  {
   "cell_type": "code",
   "execution_count": 11,
   "metadata": {},
   "outputs": [],
   "source": [
    "\n",
    "# Initialise your node\n",
    "\n",
    "rospy.init_node('testnode')"
   ]
  },
  {
   "cell_type": "code",
   "execution_count": 12,
   "metadata": {},
   "outputs": [],
   "source": [
    "\n",
    "# define you callbacks\n",
    "\n",
    "def pose_cb(msg):\n",
    "    print('pose')\n",
    "    print(msg)\n",
    "    \n",
    "def str_cb(msg):\n",
    "    print(type(msg))\n",
    "    print(msg)\n",
    "\n",
    "def scan_cb(msg):\n",
    "    print('scan')\n",
    "    print(msg)\n"
   ]
  },
  {
   "cell_type": "code",
   "execution_count": 13,
   "metadata": {},
   "outputs": [],
   "source": [
    "# correct rospy way:\n",
    "\n",
    "s = rospy.Subscriber('/msg', String, str_cb)\n",
    "s.unregister()"
   ]
  },
  {
   "cell_type": "code",
   "execution_count": 14,
   "metadata": {},
   "outputs": [
    {
     "name": "stderr",
     "output_type": "stream",
     "text": [
      "Removing previous callback, only one redirection possible right now\n"
     ]
    },
    {
     "data": {
      "application/vnd.jupyter.widget-view+json": {
       "model_id": "dff7db708f4e4aab8907388b31e4bd87",
       "version_major": 2,
       "version_minor": 0
      },
      "text/plain": [
       "VkJveChjaGlsZHJlbj0oSEJveChjaGlsZHJlbj0oQnV0dG9uKGRlc2NyaXB0aW9uPXUnU3RvcCcsIHN0eWxlPUJ1dHRvblN0eWxlKCkpLCkpLCBPdXRwdXQobGF5b3V0PUxheW91dChib3JkZXLigKY=\n"
      ]
     },
     "metadata": {},
     "output_type": "display_data"
    }
   ],
   "source": [
    "#jr.subscribe('/pose_stream', Pose, pose_cb)\n",
    "jr.subscribe('/msg', String, str_cb)\n",
    "\n",
    "#jr.subscribe('/scan', LaserScan, scan_cb)"
   ]
  },
  {
   "cell_type": "code",
   "execution_count": 7,
   "metadata": {},
   "outputs": [
    {
     "data": {
      "application/vnd.jupyter.widget-view+json": {
       "model_id": "61521c2e31a3493cae53451bf23f38de",
       "version_major": 2,
       "version_minor": 0
      },
      "text/plain": [
       "VkJveChjaGlsZHJlbj0oSEJveChjaGlsZHJlbj0oTGFiZWwodmFsdWU9dSdkYXRhJywgbGF5b3V0PUxheW91dCh3aWR0aD11JzEwMHB4JykpLCBUZXh0KHZhbHVlPXUnJykpKSwgSEJveChjaGnigKY=\n"
      ]
     },
     "metadata": {},
     "output_type": "display_data"
    }
   ],
   "source": [
    "jr.publish('/msg', String)"
   ]
  },
  {
   "cell_type": "code",
   "execution_count": null,
   "metadata": {},
   "outputs": [],
   "source": []
  }
 ],
 "metadata": {
  "kernelspec": {
   "display_name": "Python 2",
   "language": "python",
   "name": "python2"
  },
  "language_info": {
   "codemirror_mode": {
    "name": "ipython",
    "version": 2
   },
   "file_extension": ".py",
   "mimetype": "text/x-python",
   "name": "python",
   "nbconvert_exporter": "python",
   "pygments_lexer": "ipython2",
   "version": "2.7.12"
  }
 },
 "nbformat": 4,
 "nbformat_minor": 2
}
